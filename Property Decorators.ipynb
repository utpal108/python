{
 "cells": [
  {
   "cell_type": "markdown",
   "id": "3c25ece5-e3c6-4682-a94e-7adc39149904",
   "metadata": {},
   "source": [
    "## Property Decorators"
   ]
  },
  {
   "cell_type": "code",
   "execution_count": 41,
   "id": "4f319ed6-14af-488d-a2e9-3074ca97d573",
   "metadata": {},
   "outputs": [],
   "source": [
    "class Payment:\n",
    "    def __init__(self, method):\n",
    "        self.__method = method\n",
    "        \n",
    "    __METHOD_LIST = ['Bkash', 'Rocket', 'Nagad']\n",
    "    \n",
    "    @property\n",
    "    def method(self):\n",
    "        return self.__method\n",
    "    \n",
    "    @method.setter\n",
    "    def method(self, meth):\n",
    "        if meth in self.__METHOD_LIST:\n",
    "            self.__method = meth\n",
    "            \n",
    "    @method.deleter\n",
    "    def method(self):\n",
    "        self.__method = \"\""
   ]
  },
  {
   "cell_type": "code",
   "execution_count": 47,
   "id": "dfd01ccd-9dc0-43ff-b2dc-d187d93e237c",
   "metadata": {
    "tags": []
   },
   "outputs": [
    {
     "data": {
      "text/plain": [
       "'Bkash'"
      ]
     },
     "execution_count": 47,
     "metadata": {},
     "output_type": "execute_result"
    }
   ],
   "source": [
    "payment = Payment('Bkash')\n",
    "payment.method =\"Strip\"\n",
    "payment.method"
   ]
  },
  {
   "cell_type": "code",
   "execution_count": 46,
   "id": "afd63759-2952-41e3-a0d5-f9e5f218688c",
   "metadata": {
    "tags": []
   },
   "outputs": [
    {
     "data": {
      "text/plain": [
       "''"
      ]
     },
     "execution_count": 46,
     "metadata": {},
     "output_type": "execute_result"
    }
   ],
   "source": [
    "del payment.method\n",
    "payment.method"
   ]
  },
  {
   "cell_type": "code",
   "execution_count": 48,
   "id": "902b7cdc-8584-4cde-a5bb-38d3ea4171f9",
   "metadata": {
    "tags": []
   },
   "outputs": [
    {
     "data": {
      "text/plain": [
       "'Nagad'"
      ]
     },
     "execution_count": 48,
     "metadata": {},
     "output_type": "execute_result"
    }
   ],
   "source": [
    "payment.method =\"Nagad\"\n",
    "payment.method"
   ]
  },
  {
   "cell_type": "code",
   "execution_count": null,
   "id": "dba21014-feaa-4dbb-abb7-f9a71af30207",
   "metadata": {},
   "outputs": [],
   "source": []
  }
 ],
 "metadata": {
  "kernelspec": {
   "display_name": "Python 3 (ipykernel)",
   "language": "python",
   "name": "python3"
  },
  "language_info": {
   "codemirror_mode": {
    "name": "ipython",
    "version": 3
   },
   "file_extension": ".py",
   "mimetype": "text/x-python",
   "name": "python",
   "nbconvert_exporter": "python",
   "pygments_lexer": "ipython3",
   "version": "3.10.6"
  }
 },
 "nbformat": 4,
 "nbformat_minor": 5
}
