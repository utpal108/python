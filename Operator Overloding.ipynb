{
 "cells": [
  {
   "cell_type": "markdown",
   "id": "182f9dd4-4dd2-4d63-9eb1-93e84e7e8efa",
   "metadata": {},
   "source": [
    "## Operator Overloding"
   ]
  },
  {
   "cell_type": "code",
   "execution_count": 11,
   "id": "c9c84655-c4fb-40ea-85c7-2723c0c1819c",
   "metadata": {
    "tags": []
   },
   "outputs": [
    {
     "name": "stdout",
     "output_type": "stream",
     "text": [
      "90\n"
     ]
    }
   ],
   "source": [
    "class Book:\n",
    "    def __init__(self, price):\n",
    "        self.price = price\n",
    "    \n",
    "    def __add__(self, other):\n",
    "        return self.price + other.price\n",
    "    \n",
    "    def __lt__(self, other):\n",
    "        return self.price < other.price\n",
    "\n",
    "book1 = Book(40)\n",
    "book2 = Book(50)\n",
    "\n",
    "print(book1+book2)"
   ]
  },
  {
   "cell_type": "code",
   "execution_count": 12,
   "id": "9290cd08-8a42-4a0e-9345-d9dbe0531276",
   "metadata": {
    "tags": []
   },
   "outputs": [
    {
     "data": {
      "text/plain": [
       "True"
      ]
     },
     "execution_count": 12,
     "metadata": {},
     "output_type": "execute_result"
    }
   ],
   "source": [
    "complare_price = book1 < book2\n",
    "complare_price"
   ]
  }
 ],
 "metadata": {
  "kernelspec": {
   "display_name": "Python 3 (ipykernel)",
   "language": "python",
   "name": "python3"
  },
  "language_info": {
   "codemirror_mode": {
    "name": "ipython",
    "version": 3
   },
   "file_extension": ".py",
   "mimetype": "text/x-python",
   "name": "python",
   "nbconvert_exporter": "python",
   "pygments_lexer": "ipython3",
   "version": "3.10.6"
  }
 },
 "nbformat": 4,
 "nbformat_minor": 5
}
