{
 "cells": [
  {
   "cell_type": "markdown",
   "id": "47a5c953-6094-4f6c-99e4-337c445e587a",
   "metadata": {},
   "source": [
    "## Encapsulation"
   ]
  },
  {
   "cell_type": "code",
   "execution_count": 8,
   "id": "c547cfd9-689c-4e27-8466-daef26cab2eb",
   "metadata": {
    "tags": []
   },
   "outputs": [],
   "source": [
    "class Payment:\n",
    "    def __init__(self, price):\n",
    "        self.__final_price = price*10\n",
    "        \n",
    "    def get_final_price(self):\n",
    "        return self.__final_price\n",
    "    \n",
    "    def set_final_price(self, discount):\n",
    "        self.__final_price-=self.__calculate_discount(discount)\n",
    "    \n",
    "    def __calculate_discount(self, discount):\n",
    "        return self.__final_price*(discount*.01)\n",
    "        "
   ]
  },
  {
   "cell_type": "code",
   "execution_count": 16,
   "id": "ed8673b9-b120-4c1f-84c0-d2055c1c16d1",
   "metadata": {
    "tags": []
   },
   "outputs": [],
   "source": [
    "payment = Payment(10)\n",
    "# Payment().__final_price\n",
    "# payment._Payment__final_price = 50"
   ]
  },
  {
   "cell_type": "code",
   "execution_count": 17,
   "id": "29162ee0-84b7-4942-9452-06f32ebceddf",
   "metadata": {
    "tags": []
   },
   "outputs": [],
   "source": [
    "payment.set_final_price(10)"
   ]
  },
  {
   "cell_type": "code",
   "execution_count": 18,
   "id": "827e13ad-3bb2-423c-ab87-62e314f04dc0",
   "metadata": {
    "tags": []
   },
   "outputs": [
    {
     "data": {
      "text/plain": [
       "90.0"
      ]
     },
     "execution_count": 18,
     "metadata": {},
     "output_type": "execute_result"
    }
   ],
   "source": [
    "payment.get_final_price()"
   ]
  }
 ],
 "metadata": {
  "kernelspec": {
   "display_name": "Python 3 (ipykernel)",
   "language": "python",
   "name": "python3"
  },
  "language_info": {
   "codemirror_mode": {
    "name": "ipython",
    "version": 3
   },
   "file_extension": ".py",
   "mimetype": "text/x-python",
   "name": "python",
   "nbconvert_exporter": "python",
   "pygments_lexer": "ipython3",
   "version": "3.10.6"
  }
 },
 "nbformat": 4,
 "nbformat_minor": 5
}
