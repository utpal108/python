{
 "cells": [
  {
   "cell_type": "markdown",
   "id": "011f34fc-45f7-4e8b-b70d-af2d08c7d023",
   "metadata": {},
   "source": [
    "## Inheritance"
   ]
  },
  {
   "cell_type": "code",
   "execution_count": 2,
   "id": "0470b0ac-b86b-4fc7-893d-3ea9cbe98b30",
   "metadata": {
    "tags": []
   },
   "outputs": [],
   "source": [
    "# Parent Class\n",
    "class Polygon:\n",
    "    def __init__(self, sides):\n",
    "        self.sides = sides\n",
    "        \n",
    "    def area(self, length):\n",
    "        self.total_area = length**2"
   ]
  },
  {
   "cell_type": "code",
   "execution_count": 3,
   "id": "15dbc909-750a-4df6-a1d5-a3fce0af99f2",
   "metadata": {
    "tags": []
   },
   "outputs": [],
   "source": [
    "# Child Class\n",
    "class Square(Polygon):\n",
    "    pass"
   ]
  },
  {
   "cell_type": "code",
   "execution_count": 4,
   "id": "c72c84f5-adbe-47d8-b0aa-d93f5e526173",
   "metadata": {
    "tags": []
   },
   "outputs": [
    {
     "name": "stdout",
     "output_type": "stream",
     "text": [
      "4\n",
      "16\n"
     ]
    }
   ],
   "source": [
    "# Make object from the child class\n",
    "sqr = Square(4)\n",
    "sqr.area(4)\n",
    "print(sqr.sides)\n",
    "print(sqr.total_area)"
   ]
  },
  {
   "cell_type": "code",
   "execution_count": 30,
   "id": "23f3c746-d059-425a-b04f-9d4627397243",
   "metadata": {},
   "outputs": [],
   "source": [
    "# Make another class for parent class\n",
    "class Triangle(Polygon):\n",
    "    \n",
    "    def __init__(self, perimeters):\n",
    "        self.perimeters = perimeters\n",
    "        super().__init__(perimeters)\n",
    "    \n",
    "    # Method overriding\n",
    "    def area(self, height, base):\n",
    "        self.net_area = 0.5*height*base\n",
    "        super().area(height)\n"
   ]
  },
  {
   "cell_type": "code",
   "execution_count": 31,
   "id": "b261be60-be2b-4702-bab3-b8560dec8d38",
   "metadata": {
    "tags": []
   },
   "outputs": [
    {
     "data": {
      "text/plain": [
       "100"
      ]
     },
     "execution_count": 31,
     "metadata": {},
     "output_type": "execute_result"
    }
   ],
   "source": [
    "trgle = Triangle(3)\n",
    "trgle.area(10,5)\n",
    "trgle.total_area"
   ]
  },
  {
   "cell_type": "code",
   "execution_count": 34,
   "id": "2eb1f63d-387d-41a3-aeff-8ade2a1e55c7",
   "metadata": {
    "tags": []
   },
   "outputs": [
    {
     "data": {
      "text/plain": [
       "25.0"
      ]
     },
     "execution_count": 34,
     "metadata": {},
     "output_type": "execute_result"
    }
   ],
   "source": [
    "trgle.net_area"
   ]
  },
  {
   "cell_type": "code",
   "execution_count": 32,
   "id": "b6659881-937d-474c-b14d-bc8e9fb181ee",
   "metadata": {
    "tags": []
   },
   "outputs": [
    {
     "data": {
      "text/plain": [
       "3"
      ]
     },
     "execution_count": 32,
     "metadata": {},
     "output_type": "execute_result"
    }
   ],
   "source": [
    "trgle.sides"
   ]
  },
  {
   "cell_type": "code",
   "execution_count": 33,
   "id": "b3ba704e-5f8e-476c-a251-51e4580f9c81",
   "metadata": {
    "tags": []
   },
   "outputs": [
    {
     "data": {
      "text/plain": [
       "3"
      ]
     },
     "execution_count": 33,
     "metadata": {},
     "output_type": "execute_result"
    }
   ],
   "source": [
    "trgle.perimeters"
   ]
  },
  {
   "cell_type": "code",
   "execution_count": 17,
   "id": "ae363681-f618-4419-a8f4-7c0158fb0976",
   "metadata": {
    "tags": []
   },
   "outputs": [
    {
     "name": "stdout",
     "output_type": "stream",
     "text": [
      "True\n"
     ]
    }
   ],
   "source": [
    "print(isinstance(trgle, Triangle))"
   ]
  },
  {
   "cell_type": "code",
   "execution_count": 18,
   "id": "b4dca3c4-4d81-4a64-b997-22074de95a16",
   "metadata": {
    "tags": []
   },
   "outputs": [
    {
     "name": "stdout",
     "output_type": "stream",
     "text": [
      "True\n"
     ]
    }
   ],
   "source": [
    "print(isinstance(trgle, Polygon))"
   ]
  },
  {
   "cell_type": "code",
   "execution_count": 22,
   "id": "6aeb1e24-87f7-431f-a3f3-303234958e99",
   "metadata": {
    "tags": []
   },
   "outputs": [
    {
     "name": "stdout",
     "output_type": "stream",
     "text": [
      "True\n"
     ]
    }
   ],
   "source": [
    "print(issubclass(Square, Polygon))"
   ]
  },
  {
   "cell_type": "code",
   "execution_count": null,
   "id": "5b656198-b397-40ad-8900-783a277c6ebb",
   "metadata": {},
   "outputs": [],
   "source": []
  },
  {
   "cell_type": "code",
   "execution_count": null,
   "id": "075d12bf-cf57-41ae-8eeb-c9d6daf306f7",
   "metadata": {},
   "outputs": [],
   "source": []
  }
 ],
 "metadata": {
  "kernelspec": {
   "display_name": "Python 3 (ipykernel)",
   "language": "python",
   "name": "python3"
  },
  "language_info": {
   "codemirror_mode": {
    "name": "ipython",
    "version": 3
   },
   "file_extension": ".py",
   "mimetype": "text/x-python",
   "name": "python",
   "nbconvert_exporter": "python",
   "pygments_lexer": "ipython3",
   "version": "3.10.6"
  }
 },
 "nbformat": 4,
 "nbformat_minor": 5
}
