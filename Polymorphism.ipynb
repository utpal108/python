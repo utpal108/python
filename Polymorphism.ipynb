{
 "cells": [
  {
   "cell_type": "markdown",
   "id": "4c2c864c-b3aa-46bb-aab8-59667ed4c1b1",
   "metadata": {},
   "source": [
    "## Polymorphism"
   ]
  },
  {
   "cell_type": "code",
   "execution_count": 7,
   "id": "7ae344a7-65bc-4b7b-9fc5-b62f8cc0e431",
   "metadata": {
    "tags": []
   },
   "outputs": [],
   "source": [
    "class Language:\n",
    "    def say_hello(self):\n",
    "        raise NotImplementedError(\"This Language is not Implemented\")\n",
    "    \n",
    "class French(Language):\n",
    "    def say_hello(self):\n",
    "        print(\"Bonjour\")\n",
    "\n",
    "class Korean(Language):\n",
    "    def say_hello(self):\n",
    "        print(\"안녕하세요\")\n",
    "\n",
    "class Chinese(Language):\n",
    "    pass\n",
    "        \n",
    "def intro(lang):\n",
    "    lang.say_hello()"
   ]
  },
  {
   "cell_type": "code",
   "execution_count": 9,
   "id": "7cc27389-9585-451b-99b2-1d1b0e8eea25",
   "metadata": {
    "tags": []
   },
   "outputs": [],
   "source": [
    "john = French()\n",
    "lie = Korean()\n",
    "chang_mi = Chinese()"
   ]
  },
  {
   "cell_type": "code",
   "execution_count": 10,
   "id": "b8f7b77c-9b10-4be6-9e55-283bdb56cf8f",
   "metadata": {
    "tags": []
   },
   "outputs": [
    {
     "name": "stdout",
     "output_type": "stream",
     "text": [
      "Bonjour\n"
     ]
    }
   ],
   "source": [
    "intro(john)"
   ]
  },
  {
   "cell_type": "code",
   "execution_count": 11,
   "id": "22662b82-88d5-4018-a7e5-76355a2a06e5",
   "metadata": {
    "tags": []
   },
   "outputs": [
    {
     "name": "stdout",
     "output_type": "stream",
     "text": [
      "안녕하세요\n"
     ]
    }
   ],
   "source": [
    "intro(lie)"
   ]
  },
  {
   "cell_type": "code",
   "execution_count": 12,
   "id": "936fce17-e0c5-4639-a254-f69ab7bd44fd",
   "metadata": {
    "tags": []
   },
   "outputs": [
    {
     "ename": "NotImplementedError",
     "evalue": "This Language is not Implemented",
     "output_type": "error",
     "traceback": [
      "\u001b[0;31m---------------------------------------------------------------------------\u001b[0m",
      "\u001b[0;31mNotImplementedError\u001b[0m                       Traceback (most recent call last)",
      "Cell \u001b[0;32mIn[12], line 1\u001b[0m\n\u001b[0;32m----> 1\u001b[0m \u001b[43mintro\u001b[49m\u001b[43m(\u001b[49m\u001b[43mchang_mi\u001b[49m\u001b[43m)\u001b[49m\n",
      "Cell \u001b[0;32mIn[7], line 17\u001b[0m, in \u001b[0;36mintro\u001b[0;34m(lang)\u001b[0m\n\u001b[1;32m     16\u001b[0m \u001b[38;5;28;01mdef\u001b[39;00m \u001b[38;5;21mintro\u001b[39m(lang):\n\u001b[0;32m---> 17\u001b[0m     \u001b[43mlang\u001b[49m\u001b[38;5;241;43m.\u001b[39;49m\u001b[43msay_hello\u001b[49m\u001b[43m(\u001b[49m\u001b[43m)\u001b[49m\n",
      "Cell \u001b[0;32mIn[7], line 3\u001b[0m, in \u001b[0;36mLanguage.say_hello\u001b[0;34m(self)\u001b[0m\n\u001b[1;32m      2\u001b[0m \u001b[38;5;28;01mdef\u001b[39;00m \u001b[38;5;21msay_hello\u001b[39m(\u001b[38;5;28mself\u001b[39m):\n\u001b[0;32m----> 3\u001b[0m     \u001b[38;5;28;01mraise\u001b[39;00m \u001b[38;5;167;01mNotImplementedError\u001b[39;00m(\u001b[38;5;124m\"\u001b[39m\u001b[38;5;124mThis Language is not Implemented\u001b[39m\u001b[38;5;124m\"\u001b[39m)\n",
      "\u001b[0;31mNotImplementedError\u001b[0m: This Language is not Implemented"
     ]
    }
   ],
   "source": [
    "intro(chang_mi)"
   ]
  },
  {
   "cell_type": "code",
   "execution_count": null,
   "id": "25828663-8ecb-4044-810a-9b6c5ee679d1",
   "metadata": {},
   "outputs": [],
   "source": []
  }
 ],
 "metadata": {
  "kernelspec": {
   "display_name": "Python 3 (ipykernel)",
   "language": "python",
   "name": "python3"
  },
  "language_info": {
   "codemirror_mode": {
    "name": "ipython",
    "version": 3
   },
   "file_extension": ".py",
   "mimetype": "text/x-python",
   "name": "python",
   "nbconvert_exporter": "python",
   "pygments_lexer": "ipython3",
   "version": "3.10.6"
  }
 },
 "nbformat": 4,
 "nbformat_minor": 5
}
