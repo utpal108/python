{
 "cells": [
  {
   "cell_type": "markdown",
   "id": "cf5b9469-8835-4695-bc02-ea5397a79b29",
   "metadata": {},
   "source": [
    "## Decorators"
   ]
  },
  {
   "cell_type": "code",
   "execution_count": 49,
   "id": "007d24e8-65fd-49a3-b88c-cfd7c93e5f4a",
   "metadata": {},
   "outputs": [],
   "source": [
    "def opt(func):\n",
    "    def dummy(message):\n",
    "        print(\"Start\")\n",
    "        func(message)\n",
    "        print(\"End\")\n",
    "    return dummy\n",
    "\n",
    "# from decorator import opt\n",
    "\n",
    "@opt\n",
    "def newFunc(msg):\n",
    "    print(msg)\n",
    "@opt  \n",
    "def newFunc2(msge):\n",
    "    print(msge)\n"
   ]
  },
  {
   "cell_type": "code",
   "execution_count": 51,
   "id": "6b8b8c37-06f8-4717-8d76-44051a9d12c2",
   "metadata": {
    "tags": []
   },
   "outputs": [
    {
     "name": "stdout",
     "output_type": "stream",
     "text": [
      "Start\n",
      "Hello World\n",
      "End\n"
     ]
    }
   ],
   "source": [
    "newFunc(\"Hello World\")"
   ]
  },
  {
   "cell_type": "code",
   "execution_count": 53,
   "id": "2992a69e-0ffa-4b2b-844c-536472813c98",
   "metadata": {
    "tags": []
   },
   "outputs": [
    {
     "name": "stdout",
     "output_type": "stream",
     "text": [
      "Start\n",
      "Test Message\n",
      "End\n"
     ]
    }
   ],
   "source": [
    "newFunc2(\"Test Message\")"
   ]
  },
  {
   "cell_type": "code",
   "execution_count": null,
   "id": "9d6e74e3-b777-4e95-b5b0-c539f63502a7",
   "metadata": {},
   "outputs": [],
   "source": []
  },
  {
   "cell_type": "code",
   "execution_count": null,
   "id": "d3fde204-526b-4f2e-8266-11ac8a460f8d",
   "metadata": {},
   "outputs": [],
   "source": []
  },
  {
   "cell_type": "code",
   "execution_count": 66,
   "id": "7cd8472a-3558-4dd9-bb32-333e21a4ab5e",
   "metadata": {
    "tags": []
   },
   "outputs": [],
   "source": [
    "def mathOpe(func):\n",
    "    def dummy(*args):\n",
    "        return func(*args)\n",
    "    return dummy"
   ]
  },
  {
   "cell_type": "code",
   "execution_count": 67,
   "id": "bf667086-a77d-4dff-8bd2-03fca045ee60",
   "metadata": {
    "tags": []
   },
   "outputs": [],
   "source": [
    "@mathOpe\n",
    "def add(*num):\n",
    "    print(num[0]+num[1])"
   ]
  },
  {
   "cell_type": "code",
   "execution_count": 68,
   "id": "05f7637f-b1c7-402b-9444-d3bd1088a986",
   "metadata": {
    "tags": []
   },
   "outputs": [
    {
     "name": "stdout",
     "output_type": "stream",
     "text": [
      "11\n"
     ]
    }
   ],
   "source": [
    "add(5,6,6)"
   ]
  },
  {
   "cell_type": "code",
   "execution_count": null,
   "id": "42de37f8-312e-4bea-b7ae-246419307da6",
   "metadata": {},
   "outputs": [],
   "source": []
  },
  {
   "cell_type": "code",
   "execution_count": 90,
   "id": "7acc68df-0159-4e47-b2af-607a042a957e",
   "metadata": {
    "tags": []
   },
   "outputs": [],
   "source": [
    "def addDec(func):\n",
    "    def opt(*num):\n",
    "        x=0\n",
    "        for n in num:\n",
    "            x+=n\n",
    "        return x\n",
    "    return opt"
   ]
  },
  {
   "cell_type": "code",
   "execution_count": null,
   "id": "68d11cb9-3b06-4501-bfb5-23ab100d7eb3",
   "metadata": {},
   "outputs": [],
   "source": []
  },
  {
   "cell_type": "code",
   "execution_count": 91,
   "id": "2aa3b920-1b0d-45ee-af83-33026d2d6df6",
   "metadata": {
    "tags": []
   },
   "outputs": [],
   "source": [
    "def mulDec(func):\n",
    "    def opt(*num):\n",
    "        x=1\n",
    "        for n in num:\n",
    "            x*=n\n",
    "        return x\n",
    "    return opt"
   ]
  },
  {
   "cell_type": "code",
   "execution_count": null,
   "id": "ff8d9a10-9867-4a83-a44b-c6fdaa7f9410",
   "metadata": {},
   "outputs": [],
   "source": []
  },
  {
   "cell_type": "code",
   "execution_count": 92,
   "id": "587d1383-dd87-45ee-8b02-6aa8e2920fe1",
   "metadata": {
    "tags": []
   },
   "outputs": [],
   "source": [
    "@mulDec\n",
    "def myFunc(operation, result):\n",
    "    return \"{} : {}\".format(operation, result)"
   ]
  },
  {
   "cell_type": "code",
   "execution_count": 93,
   "id": "2ae3a1c6-a1b5-4a9f-911e-59fe9ffb28a0",
   "metadata": {
    "tags": []
   },
   "outputs": [
    {
     "data": {
      "text/plain": [
       "30"
      ]
     },
     "execution_count": 93,
     "metadata": {},
     "output_type": "execute_result"
    }
   ],
   "source": [
    "myFunc(5,2,3)"
   ]
  },
  {
   "cell_type": "code",
   "execution_count": null,
   "id": "b1386dae-fd26-4240-98ca-912933676321",
   "metadata": {},
   "outputs": [],
   "source": []
  }
 ],
 "metadata": {
  "kernelspec": {
   "display_name": "Python 3 (ipykernel)",
   "language": "python",
   "name": "python3"
  },
  "language_info": {
   "codemirror_mode": {
    "name": "ipython",
    "version": 3
   },
   "file_extension": ".py",
   "mimetype": "text/x-python",
   "name": "python",
   "nbconvert_exporter": "python",
   "pygments_lexer": "ipython3",
   "version": "3.10.6"
  }
 },
 "nbformat": 4,
 "nbformat_minor": 5
}
