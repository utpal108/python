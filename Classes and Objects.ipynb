{
 "cells": [
  {
   "cell_type": "markdown",
   "id": "58387e6d-24ac-4028-8627-9e5033819904",
   "metadata": {},
   "source": [
    "## Classes and Objects"
   ]
  },
  {
   "cell_type": "code",
   "execution_count": 10,
   "id": "0ddd299c-4589-42d6-9aa0-443538661a9a",
   "metadata": {
    "tags": []
   },
   "outputs": [],
   "source": [
    "# Create a Class\n",
    "class MyBook:\n",
    "    message = \"Hello World\"\n",
    "    \n",
    "    def setMessage(self, msg):\n",
    "        self.message = msg"
   ]
  },
  {
   "cell_type": "code",
   "execution_count": 18,
   "id": "5f60e8db-1563-45e6-aab8-8c75a4476c68",
   "metadata": {
    "tags": []
   },
   "outputs": [
    {
     "name": "stdout",
     "output_type": "stream",
     "text": [
      "New Message 1\n",
      "New Message 2\n"
     ]
    }
   ],
   "source": [
    "# Make the object of the class\n",
    "book1 = MyBook()\n",
    "book2 = MyBook()\n",
    "\n",
    "book1.setMessage(\"New Message 1\")\n",
    "book2.setMessage(\"New Message 2\")\n",
    "\n",
    "print(book1.message)\n",
    "print(book2.message)"
   ]
  },
  {
   "cell_type": "code",
   "execution_count": null,
   "id": "b2adac09-9ca8-4c75-87b1-5852e37da735",
   "metadata": {
    "tags": []
   },
   "outputs": [],
   "source": []
  },
  {
   "cell_type": "code",
   "execution_count": 19,
   "id": "090f6c47-a2d8-4564-9dbb-7c4224d70bbe",
   "metadata": {
    "tags": []
   },
   "outputs": [],
   "source": [
    "# Use __init__ method\n",
    "class MyBook:\n",
    "    message = \"Hello World\"\n",
    "    \n",
    "    def __init__(self, msg):\n",
    "        self.message = msg\n",
    "    \n",
    "    def setMessage(self, msg):\n",
    "        self.message = msg"
   ]
  },
  {
   "cell_type": "code",
   "execution_count": 22,
   "id": "42fcae49-6532-4b80-9366-314110677418",
   "metadata": {
    "tags": []
   },
   "outputs": [],
   "source": [
    "# Make the object of the class\n",
    "book1 = MyBook(\"Test Message 01\")\n",
    "book2 = MyBook(\"Test Message 02\")"
   ]
  },
  {
   "cell_type": "code",
   "execution_count": 23,
   "id": "6a4a77c7-b008-467e-8c74-6597e76592bd",
   "metadata": {
    "tags": []
   },
   "outputs": [
    {
     "data": {
      "text/plain": [
       "'Test Message 01'"
      ]
     },
     "execution_count": 23,
     "metadata": {},
     "output_type": "execute_result"
    }
   ],
   "source": [
    "book1.message"
   ]
  },
  {
   "cell_type": "code",
   "execution_count": 24,
   "id": "30030b47-bdc8-4eef-b8f3-01cf3e038a3c",
   "metadata": {
    "tags": []
   },
   "outputs": [
    {
     "data": {
      "text/plain": [
       "'Test Message 02'"
      ]
     },
     "execution_count": 24,
     "metadata": {},
     "output_type": "execute_result"
    }
   ],
   "source": [
    "book2.message"
   ]
  },
  {
   "cell_type": "code",
   "execution_count": null,
   "id": "22f3a087-ed05-4e0f-8ef6-0b153760e734",
   "metadata": {},
   "outputs": [],
   "source": []
  }
 ],
 "metadata": {
  "kernelspec": {
   "display_name": "Python 3 (ipykernel)",
   "language": "python",
   "name": "python3"
  },
  "language_info": {
   "codemirror_mode": {
    "name": "ipython",
    "version": 3
   },
   "file_extension": ".py",
   "mimetype": "text/x-python",
   "name": "python",
   "nbconvert_exporter": "python",
   "pygments_lexer": "ipython3",
   "version": "3.10.6"
  }
 },
 "nbformat": 4,
 "nbformat_minor": 5
}
